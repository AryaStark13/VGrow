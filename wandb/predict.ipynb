{
 "cells": [
  {
   "cell_type": "code",
   "execution_count": 10,
   "metadata": {},
   "outputs": [],
   "source": [
    "import pickle\n",
    "import numpy as np\n",
    "import joblib"
   ]
  },
  {
   "cell_type": "code",
   "execution_count": 26,
   "metadata": {},
   "outputs": [],
   "source": [
    "dict_crop = {'rice': 20,\n",
    "             'maize': 11,\n",
    "             'chickpea': 3,\n",
    "             'kidneybeans': 9,\n",
    "             'pigeonpeas': 18,\n",
    "             'mothbeans': 13,\n",
    "             'mungbean': 14,\n",
    "             'blackgram': 2,\n",
    "             'lentil': 10,\n",
    "             'pomegranate': 19,\n",
    "             'banana': 1,\n",
    "             'mango': 12,\n",
    "             'grapes': 7,\n",
    "             'watermelon': 21,\n",
    "             'muskmelon': 15,\n",
    "             'apple': 0,\n",
    "             'orange': 16,\n",
    "             'papaya': 17,\n",
    "             'coconut': 4,\n",
    "             'cotton': 6,\n",
    "             'jute': 8,\n",
    "             'coffee': 5}\n",
    "\n",
    "def standardize(x, type):\n",
    "    scaler = joblib.load(f\"../scalers/{type}_scaler.gz\")\n",
    "    x_scaled = scaler.transform(x)\n",
    "\n",
    "    return x_scaled\n",
    "\n",
    "def load_model(model_name):\n",
    "    with open(f\"../models/{model_name}_model.pkl\", \"rb\") as f:\n",
    "        model = pickle.load(f)\n",
    "\n",
    "    return model\n",
    "\n",
    "def predict(model, x):\n",
    "    y_pred = model.predict(x)\n",
    "\n",
    "    return y_pred\n",
    "\n",
    "def decode_crop(dict_crop, val):\n",
    "    for key, value in dict_crop.items():\n",
    "        if value == val:\n",
    "            return key"
   ]
  },
  {
   "cell_type": "code",
   "execution_count": 28,
   "metadata": {},
   "outputs": [
    {
     "name": "stdout",
     "output_type": "stream",
     "text": [
      "Predicted Encoded Value: 20\n",
      "Predicted Crop: rice\n"
     ]
    }
   ],
   "source": [
    "data = np.array([ 90.        ,  42.        ,  43.        ,  20.87974371,\n",
    "         82.00274423,   6.50298529, 202.9355362 ]).reshape(1, -1)\n",
    "\n",
    "data_scaled = standardize(data, \"all\")\n",
    "random_forest = load_model(\"random_forest\")\n",
    "temp_predict = predict(random_forest, data_scaled)\n",
    "\n",
    "print(f\"Predicted Encoded Value: {temp_predict[0]}\")\n",
    "print(f\"Predicted Crop: {decode_crop(dict_crop, temp_predict[0])}\")"
   ]
  }
 ],
 "metadata": {
  "kernelspec": {
   "display_name": "tri_nit_env",
   "language": "python",
   "name": "python3"
  },
  "language_info": {
   "codemirror_mode": {
    "name": "ipython",
    "version": 3
   },
   "file_extension": ".py",
   "mimetype": "text/x-python",
   "name": "python",
   "nbconvert_exporter": "python",
   "pygments_lexer": "ipython3",
   "version": "3.10.5"
  },
  "orig_nbformat": 4,
  "vscode": {
   "interpreter": {
    "hash": "ce494a291cea0fbba7942a89b223b36d07629b32924d5ffce7e991f8d29c502c"
   }
  }
 },
 "nbformat": 4,
 "nbformat_minor": 2
}
