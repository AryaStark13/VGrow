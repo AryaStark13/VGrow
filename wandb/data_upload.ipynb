{
 "cells": [
  {
   "cell_type": "code",
   "execution_count": 10,
   "metadata": {},
   "outputs": [],
   "source": [
    "import pandas as pd\n",
    "import numpy as np\n",
    "\n",
    "import params\n",
    "import wandb\n",
    "wandb.login()\n",
    "\n",
    "from sklearn.preprocessing import LabelEncoder"
   ]
  },
  {
   "cell_type": "code",
   "execution_count": 11,
   "metadata": {},
   "outputs": [],
   "source": [
    "df_fertilizer = pd.read_csv(\"../data/fertilizer_prediction.csv\")\n",
    "df_crop = pd.read_csv(\"../data/crop_recommendation.csv\")"
   ]
  },
  {
   "cell_type": "code",
   "execution_count": 12,
   "metadata": {},
   "outputs": [],
   "source": [
    "def process_fertilizer_df(df_fertilizer):\n",
    "    soil_type= np.array(df_fertilizer['Soil Type'].values)\n",
    "    crop_type= np.array(df_fertilizer['Crop Type'].values)\n",
    "\n",
    "    label_encoder = LabelEncoder()\n",
    "    integer_encoded_soil = label_encoder.fit_transform(soil_type)\n",
    "    integer_encoded_crop = label_encoder.fit_transform(crop_type)\n",
    "\n",
    "    dict_soil={}\n",
    "    for i in range(len(integer_encoded_soil)):\n",
    "        dict_soil[soil_type[i]]=integer_encoded_soil[i]\n",
    "    dict_crop={}\n",
    "    for i in range(len(integer_encoded_crop)):\n",
    "        dict_crop[crop_type[i]]=integer_encoded_crop[i]\n",
    "\n",
    "    df_fertilizer['Soil Type']=df_fertilizer['Soil Type'].map(dict_soil)\n",
    "    df_fertilizer['Crop Type']=df_fertilizer['Crop Type'].map(dict_crop)\n",
    "\n",
    "    df_fertilizer.drop(columns=[\"Humidity \"], axis=1, inplace=True)\n",
    "\n",
    "    return df_fertilizer"
   ]
  },
  {
   "cell_type": "code",
   "execution_count": 13,
   "metadata": {},
   "outputs": [
    {
     "data": {
      "text/html": [
       "<div>\n",
       "<style scoped>\n",
       "    .dataframe tbody tr th:only-of-type {\n",
       "        vertical-align: middle;\n",
       "    }\n",
       "\n",
       "    .dataframe tbody tr th {\n",
       "        vertical-align: top;\n",
       "    }\n",
       "\n",
       "    .dataframe thead th {\n",
       "        text-align: right;\n",
       "    }\n",
       "</style>\n",
       "<table border=\"1\" class=\"dataframe\">\n",
       "  <thead>\n",
       "    <tr style=\"text-align: right;\">\n",
       "      <th></th>\n",
       "      <th>Temparature</th>\n",
       "      <th>Moisture</th>\n",
       "      <th>Soil Type</th>\n",
       "      <th>Crop Type</th>\n",
       "      <th>Nitrogen</th>\n",
       "      <th>Potassium</th>\n",
       "      <th>Phosphorous</th>\n",
       "      <th>Fertilizer Name</th>\n",
       "    </tr>\n",
       "  </thead>\n",
       "  <tbody>\n",
       "    <tr>\n",
       "      <th>0</th>\n",
       "      <td>26</td>\n",
       "      <td>38</td>\n",
       "      <td>4</td>\n",
       "      <td>3</td>\n",
       "      <td>37</td>\n",
       "      <td>0</td>\n",
       "      <td>0</td>\n",
       "      <td>Urea</td>\n",
       "    </tr>\n",
       "    <tr>\n",
       "      <th>1</th>\n",
       "      <td>29</td>\n",
       "      <td>45</td>\n",
       "      <td>2</td>\n",
       "      <td>8</td>\n",
       "      <td>12</td>\n",
       "      <td>0</td>\n",
       "      <td>36</td>\n",
       "      <td>DAP</td>\n",
       "    </tr>\n",
       "    <tr>\n",
       "      <th>2</th>\n",
       "      <td>34</td>\n",
       "      <td>62</td>\n",
       "      <td>0</td>\n",
       "      <td>1</td>\n",
       "      <td>7</td>\n",
       "      <td>9</td>\n",
       "      <td>30</td>\n",
       "      <td>14-35-14</td>\n",
       "    </tr>\n",
       "    <tr>\n",
       "      <th>3</th>\n",
       "      <td>32</td>\n",
       "      <td>34</td>\n",
       "      <td>3</td>\n",
       "      <td>9</td>\n",
       "      <td>22</td>\n",
       "      <td>0</td>\n",
       "      <td>20</td>\n",
       "      <td>28-28</td>\n",
       "    </tr>\n",
       "    <tr>\n",
       "      <th>4</th>\n",
       "      <td>28</td>\n",
       "      <td>46</td>\n",
       "      <td>1</td>\n",
       "      <td>6</td>\n",
       "      <td>35</td>\n",
       "      <td>0</td>\n",
       "      <td>0</td>\n",
       "      <td>Urea</td>\n",
       "    </tr>\n",
       "  </tbody>\n",
       "</table>\n",
       "</div>"
      ],
      "text/plain": [
       "   Temparature  Moisture  Soil Type  Crop Type  Nitrogen  Potassium  \\\n",
       "0           26        38          4          3        37          0   \n",
       "1           29        45          2          8        12          0   \n",
       "2           34        62          0          1         7          9   \n",
       "3           32        34          3          9        22          0   \n",
       "4           28        46          1          6        35          0   \n",
       "\n",
       "   Phosphorous Fertilizer Name  \n",
       "0            0            Urea  \n",
       "1           36             DAP  \n",
       "2           30        14-35-14  \n",
       "3           20           28-28  \n",
       "4            0            Urea  "
      ]
     },
     "execution_count": 13,
     "metadata": {},
     "output_type": "execute_result"
    }
   ],
   "source": [
    "df_fertilizer = process_fertilizer_df(df_fertilizer)\n",
    "df_fertilizer.head()"
   ]
  },
  {
   "cell_type": "code",
   "execution_count": 14,
   "metadata": {},
   "outputs": [],
   "source": [
    "fertilizer_table = wandb.Table(dataframe=df_fertilizer)\n",
    "crop_table = wandb.Table(dataframe=df_crop)"
   ]
  },
  {
   "cell_type": "code",
   "execution_count": 15,
   "metadata": {},
   "outputs": [
    {
     "data": {
      "text/html": [
       "Tracking run with wandb version 0.13.10"
      ],
      "text/plain": [
       "<IPython.core.display.HTML object>"
      ]
     },
     "metadata": {},
     "output_type": "display_data"
    },
    {
     "data": {
      "text/html": [
       "Run data is saved locally in <code>c:\\Users\\ariha\\Desktop\\TRI-NIT\\TRINIT_EnemiesOfSyntax_ML\\wandb\\wandb\\run-20230211_110354-vudmsz6v</code>"
      ],
      "text/plain": [
       "<IPython.core.display.HTML object>"
      ]
     },
     "metadata": {},
     "output_type": "display_data"
    },
    {
     "data": {
      "text/html": [
       "Syncing run <strong><a href='https://wandb.ai/tri-nit/tri-nit-hackathon/runs/vudmsz6v' target=\"_blank\">glorious-wildflower-6</a></strong> to <a href='https://wandb.ai/tri-nit/tri-nit-hackathon' target=\"_blank\">Weights & Biases</a> (<a href='https://wandb.me/run' target=\"_blank\">docs</a>)<br/>"
      ],
      "text/plain": [
       "<IPython.core.display.HTML object>"
      ]
     },
     "metadata": {},
     "output_type": "display_data"
    },
    {
     "data": {
      "text/html": [
       " View project at <a href='https://wandb.ai/tri-nit/tri-nit-hackathon' target=\"_blank\">https://wandb.ai/tri-nit/tri-nit-hackathon</a>"
      ],
      "text/plain": [
       "<IPython.core.display.HTML object>"
      ]
     },
     "metadata": {},
     "output_type": "display_data"
    },
    {
     "data": {
      "text/html": [
       " View run at <a href='https://wandb.ai/tri-nit/tri-nit-hackathon/runs/vudmsz6v' target=\"_blank\">https://wandb.ai/tri-nit/tri-nit-hackathon/runs/vudmsz6v</a>"
      ],
      "text/plain": [
       "<IPython.core.display.HTML object>"
      ]
     },
     "metadata": {},
     "output_type": "display_data"
    }
   ],
   "source": [
    "run = wandb.init(project=params.PROJECT, entity=params.ENTITY, job_type=\"data_upload\")\n",
    "data_artifact = wandb.Artifact(params.DATA_ART, type=\"data_upload\")"
   ]
  },
  {
   "cell_type": "code",
   "execution_count": 16,
   "metadata": {},
   "outputs": [
    {
     "data": {
      "text/plain": [
       "ArtifactManifestEntry(path='crop_data_table.table.json', digest='JOa9X6QrATXENK1X/lCyZg==', ref=None, birth_artifact_id=None, size=175176, extra={}, local_path='C:\\\\Users\\\\ariha\\\\AppData\\\\Local\\\\wandb\\\\wandb\\\\artifacts\\\\staging\\\\tmpb9v4lgoz')"
      ]
     },
     "execution_count": 16,
     "metadata": {},
     "output_type": "execute_result"
    }
   ],
   "source": [
    "data_artifact.add(fertilizer_table, \"fertilizer_data_table\")\n",
    "data_artifact.add(crop_table, \"crop_data_table\")"
   ]
  },
  {
   "cell_type": "code",
   "execution_count": 17,
   "metadata": {},
   "outputs": [
    {
     "data": {
      "text/html": [
       "Waiting for W&B process to finish... <strong style=\"color:green\">(success).</strong>"
      ],
      "text/plain": [
       "<IPython.core.display.HTML object>"
      ]
     },
     "metadata": {},
     "output_type": "display_data"
    },
    {
     "data": {
      "text/html": [
       " View run <strong style=\"color:#cdcd00\">glorious-wildflower-6</strong> at: <a href='https://wandb.ai/tri-nit/tri-nit-hackathon/runs/vudmsz6v' target=\"_blank\">https://wandb.ai/tri-nit/tri-nit-hackathon/runs/vudmsz6v</a><br/>Synced 4 W&B file(s), 0 media file(s), 2 artifact file(s) and 0 other file(s)"
      ],
      "text/plain": [
       "<IPython.core.display.HTML object>"
      ]
     },
     "metadata": {},
     "output_type": "display_data"
    },
    {
     "data": {
      "text/html": [
       "Find logs at: <code>.\\wandb\\run-20230211_110354-vudmsz6v\\logs</code>"
      ],
      "text/plain": [
       "<IPython.core.display.HTML object>"
      ]
     },
     "metadata": {},
     "output_type": "display_data"
    }
   ],
   "source": [
    "run.log_artifact(data_artifact)\n",
    "run.finish()"
   ]
  }
 ],
 "metadata": {
  "kernelspec": {
   "display_name": "tri_nit_env",
   "language": "python",
   "name": "python3"
  },
  "language_info": {
   "codemirror_mode": {
    "name": "ipython",
    "version": 3
   },
   "file_extension": ".py",
   "mimetype": "text/x-python",
   "name": "python",
   "nbconvert_exporter": "python",
   "pygments_lexer": "ipython3",
   "version": "3.10.5"
  },
  "orig_nbformat": 4,
  "vscode": {
   "interpreter": {
    "hash": "ce494a291cea0fbba7942a89b223b36d07629b32924d5ffce7e991f8d29c502c"
   }
  }
 },
 "nbformat": 4,
 "nbformat_minor": 2
}
