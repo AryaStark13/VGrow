{
 "cells": [
  {
   "cell_type": "code",
   "execution_count": 1,
   "metadata": {},
   "outputs": [
    {
     "name": "stderr",
     "output_type": "stream",
     "text": [
      "Failed to detect the name of this notebook, you can set it manually with the WANDB_NOTEBOOK_NAME environment variable to enable code saving.\n",
      "\u001b[34m\u001b[1mwandb\u001b[0m: Currently logged in as: \u001b[33marihantsheth\u001b[0m (\u001b[33mtri-nit\u001b[0m). Use \u001b[1m`wandb login --relogin`\u001b[0m to force relogin\n"
     ]
    }
   ],
   "source": [
    "import wandb\n",
    "wandb.login()\n",
    "\n",
    "import pandas as pd\n",
    "import seaborn as sns\n",
    "import matplotlib.pyplot as plt\n",
    "import numpy as np\n",
    "import sklearn\n",
    "from sklearn.preprocessing import LabelEncoder\n",
    "from sklearn.model_selection import train_test_split\n",
    "from sklearn.preprocessing import StandardScaler\n",
    "\n",
    "import params"
   ]
  },
  {
   "cell_type": "code",
   "execution_count": 2,
   "metadata": {},
   "outputs": [
    {
     "data": {
      "text/html": [
       "Tracking run with wandb version 0.13.10"
      ],
      "text/plain": [
       "<IPython.core.display.HTML object>"
      ]
     },
     "metadata": {},
     "output_type": "display_data"
    },
    {
     "data": {
      "text/html": [
       "Run data is saved locally in <code>c:\\Users\\ariha\\Desktop\\TRI-NIT\\TRINIT_EnemiesOfSyntax_ML\\wandb\\wandb\\run-20230211_150833-wollqig4</code>"
      ],
      "text/plain": [
       "<IPython.core.display.HTML object>"
      ]
     },
     "metadata": {},
     "output_type": "display_data"
    },
    {
     "data": {
      "text/html": [
       "Syncing run <strong><a href='https://wandb.ai/tri-nit/tri-nit-hackathon/runs/wollqig4' target=\"_blank\">get_data</a></strong> to <a href='https://wandb.ai/tri-nit/tri-nit-hackathon' target=\"_blank\">Weights & Biases</a> (<a href='https://wandb.me/run' target=\"_blank\">docs</a>)<br/>"
      ],
      "text/plain": [
       "<IPython.core.display.HTML object>"
      ]
     },
     "metadata": {},
     "output_type": "display_data"
    },
    {
     "data": {
      "text/html": [
       " View project at <a href='https://wandb.ai/tri-nit/tri-nit-hackathon' target=\"_blank\">https://wandb.ai/tri-nit/tri-nit-hackathon</a>"
      ],
      "text/plain": [
       "<IPython.core.display.HTML object>"
      ]
     },
     "metadata": {},
     "output_type": "display_data"
    },
    {
     "data": {
      "text/html": [
       " View run at <a href='https://wandb.ai/tri-nit/tri-nit-hackathon/runs/wollqig4' target=\"_blank\">https://wandb.ai/tri-nit/tri-nit-hackathon/runs/wollqig4</a>"
      ],
      "text/plain": [
       "<IPython.core.display.HTML object>"
      ]
     },
     "metadata": {},
     "output_type": "display_data"
    },
    {
     "data": {
      "text/html": [
       "<button onClick=\"this.nextSibling.style.display='block';this.style.display='none';\">Display W&B run</button><iframe src='https://wandb.ai/tri-nit/tri-nit-hackathon/runs/wollqig4?jupyter=true' style='border:none;width:100%;height:420px;display:none;'></iframe>"
      ],
      "text/plain": [
       "<wandb.sdk.wandb_run.Run at 0x184bc45ea40>"
      ]
     },
     "execution_count": 2,
     "metadata": {},
     "output_type": "execute_result"
    }
   ],
   "source": [
    "wandb.init(project=params.PROJECT, entity=params.ENTITY, job_type=\"baseline_model\", name=\"get_data\")"
   ]
  },
  {
   "cell_type": "code",
   "execution_count": 4,
   "metadata": {},
   "outputs": [],
   "source": [
    "def get_df_wandb(name):\n",
    "    data_artifact = wandb.use_artifact(f\"{params.DATA_ART}:latest\")\n",
    "    table = data_artifact.get(f\"{name}_data_table\")\n",
    "    df = pd.DataFrame(data=table.data, columns=table.columns)\n",
    "\n",
    "    return df\n",
    "\n",
    "def encode_crop(df_crop):\n",
    "    label_encoder = LabelEncoder()\n",
    "\n",
    "    encoded_crop = label_encoder.fit_transform(df_crop[\"label\"])\n",
    "\n",
    "    dict_crop={}\n",
    "    for i in range(len(encoded_crop)):\n",
    "        dict_crop[df_crop.loc[i, \"label\"]]=encoded_crop[i]\n",
    "    \n",
    "    df_crop[\"label\"] = df_crop[\"label\"].map(dict_crop)\n",
    "\n",
    "    return df_crop, dict_crop\n",
    "\n",
    "def split_data(df, test_size=0.2, random_state=42):\n",
    "    x = np.array(df.iloc[:, :-1].copy())\n",
    "    y = np.array(df.iloc[:, -1:].copy())\n",
    "\n",
    "    x_train, x_test, y_train, y_test = train_test_split(x,\n",
    "                                                    y,\n",
    "                                                    test_size = test_size,\n",
    "                                                    random_state = random_state)\n",
    "\n",
    "    y_train = np.reshape(y_train, (-1,))\n",
    "    y_test = np.reshape(y_test, (-1,))\n",
    "\n",
    "    return x_train, x_test, y_train, y_test\n",
    "\n",
    "def standardize(x):\n",
    "    scaler = StandardScaler().fit(x)\n",
    "    x_scaled = scaler.transform(x)\n",
    "\n",
    "    return x_scaled"
   ]
  },
  {
   "cell_type": "code",
   "execution_count": 5,
   "metadata": {},
   "outputs": [
    {
     "name": "stderr",
     "output_type": "stream",
     "text": [
      "\u001b[34m\u001b[1mwandb\u001b[0m:   2 of 2 files downloaded.  \n"
     ]
    },
    {
     "data": {
      "text/html": [
       "Waiting for W&B process to finish... <strong style=\"color:green\">(success).</strong>"
      ],
      "text/plain": [
       "<IPython.core.display.HTML object>"
      ]
     },
     "metadata": {},
     "output_type": "display_data"
    },
    {
     "data": {
      "text/html": [
       " View run <strong style=\"color:#cdcd00\">get_data</strong> at: <a href='https://wandb.ai/tri-nit/tri-nit-hackathon/runs/wollqig4' target=\"_blank\">https://wandb.ai/tri-nit/tri-nit-hackathon/runs/wollqig4</a><br/>Synced 5 W&B file(s), 1 media file(s), 1 artifact file(s) and 0 other file(s)"
      ],
      "text/plain": [
       "<IPython.core.display.HTML object>"
      ]
     },
     "metadata": {},
     "output_type": "display_data"
    },
    {
     "data": {
      "text/html": [
       "Find logs at: <code>.\\wandb\\run-20230211_150833-wollqig4\\logs</code>"
      ],
      "text/plain": [
       "<IPython.core.display.HTML object>"
      ]
     },
     "metadata": {},
     "output_type": "display_data"
    }
   ],
   "source": [
    "df_crop = get_df_wandb(\"crop\")\n",
    "df_crop, dict_crop = encode_crop(df_crop)\n",
    "x_train, x_test, y_train, y_test = split_data(df_crop)\n",
    "\n",
    "x_train_scaled = standardize(x_train)\n",
    "x_test_scaled = standardize(x_test)\n",
    "\n",
    "# wandb.log({\"dict_crop\": wandb.Table(dataframe=pd.DataFrame.from_dict(dict_crop, orient=\"index\", columns=[\"label\"]))})\n",
    "\n",
    "wandb.finish()"
   ]
  },
  {
   "attachments": {},
   "cell_type": "markdown",
   "metadata": {},
   "source": [
    "# Logistic Regression"
   ]
  },
  {
   "cell_type": "code",
   "execution_count": 9,
   "metadata": {},
   "outputs": [
    {
     "data": {
      "text/html": [
       "Tracking run with wandb version 0.13.10"
      ],
      "text/plain": [
       "<IPython.core.display.HTML object>"
      ]
     },
     "metadata": {},
     "output_type": "display_data"
    },
    {
     "data": {
      "text/html": [
       "Run data is saved locally in <code>c:\\Users\\ariha\\Desktop\\TRI-NIT\\TRINIT_EnemiesOfSyntax_ML\\wandb\\wandb\\run-20230211_151301-3r5v5csq</code>"
      ],
      "text/plain": [
       "<IPython.core.display.HTML object>"
      ]
     },
     "metadata": {},
     "output_type": "display_data"
    },
    {
     "data": {
      "text/html": [
       "Syncing run <strong><a href='https://wandb.ai/tri-nit/tri-nit-hackathon/runs/3r5v5csq' target=\"_blank\">logistic_regression_model</a></strong> to <a href='https://wandb.ai/tri-nit/tri-nit-hackathon' target=\"_blank\">Weights & Biases</a> (<a href='https://wandb.me/run' target=\"_blank\">docs</a>)<br/>"
      ],
      "text/plain": [
       "<IPython.core.display.HTML object>"
      ]
     },
     "metadata": {},
     "output_type": "display_data"
    },
    {
     "data": {
      "text/html": [
       " View project at <a href='https://wandb.ai/tri-nit/tri-nit-hackathon' target=\"_blank\">https://wandb.ai/tri-nit/tri-nit-hackathon</a>"
      ],
      "text/plain": [
       "<IPython.core.display.HTML object>"
      ]
     },
     "metadata": {},
     "output_type": "display_data"
    },
    {
     "data": {
      "text/html": [
       " View run at <a href='https://wandb.ai/tri-nit/tri-nit-hackathon/runs/3r5v5csq' target=\"_blank\">https://wandb.ai/tri-nit/tri-nit-hackathon/runs/3r5v5csq</a>"
      ],
      "text/plain": [
       "<IPython.core.display.HTML object>"
      ]
     },
     "metadata": {},
     "output_type": "display_data"
    },
    {
     "data": {
      "text/html": [
       "<button onClick=\"this.nextSibling.style.display='block';this.style.display='none';\">Display W&B run</button><iframe src='https://wandb.ai/tri-nit/tri-nit-hackathon/runs/3r5v5csq?jupyter=true' style='border:none;width:100%;height:420px;display:none;'></iframe>"
      ],
      "text/plain": [
       "<wandb.sdk.wandb_run.Run at 0x184be668820>"
      ]
     },
     "execution_count": 9,
     "metadata": {},
     "output_type": "execute_result"
    }
   ],
   "source": [
    "wandb.init(project=params.PROJECT, entity=params.ENTITY, job_type=\"train_model\", name=\"logistic_regression_model\")"
   ]
  },
  {
   "cell_type": "code",
   "execution_count": 10,
   "metadata": {},
   "outputs": [
    {
     "name": "stderr",
     "output_type": "stream",
     "text": [
      "\u001b[34m\u001b[1mwandb\u001b[0m: \n",
      "\u001b[34m\u001b[1mwandb\u001b[0m: Plotting LogisticRegression.\n",
      "\u001b[34m\u001b[1mwandb\u001b[0m: \u001b[33mWARNING\u001b[0m 2-dimensional feature importances array passed to plot_feature_importances. 2-dimensional and higher feature importances arrays are not currently supported. These importances will not be plotted.\n",
      "\u001b[34m\u001b[1mwandb\u001b[0m: Logged feature importances.\n"
     ]
    },
    {
     "name": "stdout",
     "output_type": "stream",
     "text": [
      "Accuracy of Logistic Regression: 0.9545454545454546\n"
     ]
    },
    {
     "name": "stderr",
     "output_type": "stream",
     "text": [
      "\u001b[34m\u001b[1mwandb\u001b[0m: Logged confusion matrix.\n",
      "\u001b[34m\u001b[1mwandb\u001b[0m: Logged summary metrics.\n",
      "\u001b[34m\u001b[1mwandb\u001b[0m: Logged class proportions.\n",
      "\u001b[34m\u001b[1mwandb\u001b[0m: \u001b[33mWARNING\u001b[0m This function only supports binary classification at the moment and therefore expects labels to be binary. Skipping calibration curve.\n",
      "\u001b[34m\u001b[1mwandb\u001b[0m: Logged calibration curve.\n",
      "\u001b[34m\u001b[1mwandb\u001b[0m: \u001b[33mWARNING\u001b[0m wandb.plots.* functions are deprecated and will be removed in a future release. Please use wandb.plot.* instead.\n",
      "\u001b[34m\u001b[1mwandb\u001b[0m: Logged roc curve.\n",
      "\u001b[34m\u001b[1mwandb\u001b[0m: Logged precision-recall curve.\n"
     ]
    },
    {
     "data": {
      "text/html": [
       "Waiting for W&B process to finish... <strong style=\"color:green\">(success).</strong>"
      ],
      "text/plain": [
       "<IPython.core.display.HTML object>"
      ]
     },
     "metadata": {},
     "output_type": "display_data"
    },
    {
     "data": {
      "text/html": [
       "<style>\n",
       "    table.wandb td:nth-child(1) { padding: 0 10px; text-align: left ; width: auto;} td:nth-child(2) {text-align: left ; width: 100%}\n",
       "    .wandb-row { display: flex; flex-direction: row; flex-wrap: wrap; justify-content: flex-start; width: 100% }\n",
       "    .wandb-col { display: flex; flex-direction: column; flex-basis: 100%; flex: 1; padding: 10px; }\n",
       "    </style>\n",
       "<div class=\"wandb-row\"><div class=\"wandb-col\"><h3>Run history:</h3><br/><table class=\"wandb\"><tr><td>test_accuracy</td><td>▁</td></tr><tr><td>train_accuracy</td><td>▁</td></tr></table><br/></div><div class=\"wandb-col\"><h3>Run summary:</h3><br/><table class=\"wandb\"><tr><td>test_accuracy</td><td>0.95455</td></tr><tr><td>train_accuracy</td><td>0.97784</td></tr></table><br/></div></div>"
      ],
      "text/plain": [
       "<IPython.core.display.HTML object>"
      ]
     },
     "metadata": {},
     "output_type": "display_data"
    },
    {
     "data": {
      "text/html": [
       " View run <strong style=\"color:#cdcd00\">logistic_regression_model</strong> at: <a href='https://wandb.ai/tri-nit/tri-nit-hackathon/runs/3r5v5csq' target=\"_blank\">https://wandb.ai/tri-nit/tri-nit-hackathon/runs/3r5v5csq</a><br/>Synced 5 W&B file(s), 5 media file(s), 5 artifact file(s) and 0 other file(s)"
      ],
      "text/plain": [
       "<IPython.core.display.HTML object>"
      ]
     },
     "metadata": {},
     "output_type": "display_data"
    },
    {
     "data": {
      "text/html": [
       "Find logs at: <code>.\\wandb\\run-20230211_151301-3r5v5csq\\logs</code>"
      ],
      "text/plain": [
       "<IPython.core.display.HTML object>"
      ]
     },
     "metadata": {},
     "output_type": "display_data"
    }
   ],
   "source": [
    "from sklearn.linear_model import LogisticRegression\n",
    "from sklearn.metrics import accuracy_score\n",
    "\n",
    "logistic_regression = LogisticRegression()\n",
    "logistic_regression.fit(x_train_scaled, y_train)\n",
    "\n",
    "y_pred = logistic_regression.predict(x_test_scaled)\n",
    "y_probas = logistic_regression.predict_proba(x_test_scaled)\n",
    "\n",
    "y_pred_train = logistic_regression.predict(x_train_scaled)\n",
    "train_accuracy = accuracy_score(y_train, y_pred_train)\n",
    "\n",
    "test_accuracy = accuracy_score(y_test, y_pred)\n",
    "labels = [x for x in dict(sorted(dict_crop.items(), key= lambda x: x[1])).keys()]\n",
    "\n",
    "print(f\"Accuracy of Logistic Regression: {test_accuracy}\")\n",
    "\n",
    "wandb.log({\n",
    "    \"test_accuracy\": test_accuracy,\n",
    "    \"train_accuracy\": train_accuracy\n",
    "})\n",
    "\n",
    "wandb.sklearn.plot_classifier(logistic_regression,\n",
    "                              x_train_scaled, \n",
    "                              x_test_scaled,\n",
    "                              y_train,\n",
    "                              y_test,\n",
    "                              y_pred,\n",
    "                              y_probas,\n",
    "                              labels,\n",
    "                              is_binary=False,\n",
    "                              model_name=\"LogisticRegression\"\n",
    ")\n",
    "\n",
    "wandb.finish()"
   ]
  },
  {
   "attachments": {},
   "cell_type": "markdown",
   "metadata": {},
   "source": [
    "# Decision Tree"
   ]
  },
  {
   "cell_type": "code",
   "execution_count": 12,
   "metadata": {},
   "outputs": [
    {
     "data": {
      "text/html": [
       "Tracking run with wandb version 0.13.10"
      ],
      "text/plain": [
       "<IPython.core.display.HTML object>"
      ]
     },
     "metadata": {},
     "output_type": "display_data"
    },
    {
     "data": {
      "text/html": [
       "Run data is saved locally in <code>c:\\Users\\ariha\\Desktop\\TRI-NIT\\TRINIT_EnemiesOfSyntax_ML\\wandb\\wandb\\run-20230211_151818-yy5rwc7n</code>"
      ],
      "text/plain": [
       "<IPython.core.display.HTML object>"
      ]
     },
     "metadata": {},
     "output_type": "display_data"
    },
    {
     "data": {
      "text/html": [
       "Syncing run <strong><a href='https://wandb.ai/tri-nit/tri-nit-hackathon/runs/yy5rwc7n' target=\"_blank\">decision_tree_model</a></strong> to <a href='https://wandb.ai/tri-nit/tri-nit-hackathon' target=\"_blank\">Weights & Biases</a> (<a href='https://wandb.me/run' target=\"_blank\">docs</a>)<br/>"
      ],
      "text/plain": [
       "<IPython.core.display.HTML object>"
      ]
     },
     "metadata": {},
     "output_type": "display_data"
    },
    {
     "data": {
      "text/html": [
       " View project at <a href='https://wandb.ai/tri-nit/tri-nit-hackathon' target=\"_blank\">https://wandb.ai/tri-nit/tri-nit-hackathon</a>"
      ],
      "text/plain": [
       "<IPython.core.display.HTML object>"
      ]
     },
     "metadata": {},
     "output_type": "display_data"
    },
    {
     "data": {
      "text/html": [
       " View run at <a href='https://wandb.ai/tri-nit/tri-nit-hackathon/runs/yy5rwc7n' target=\"_blank\">https://wandb.ai/tri-nit/tri-nit-hackathon/runs/yy5rwc7n</a>"
      ],
      "text/plain": [
       "<IPython.core.display.HTML object>"
      ]
     },
     "metadata": {},
     "output_type": "display_data"
    },
    {
     "name": "stderr",
     "output_type": "stream",
     "text": [
      "\u001b[34m\u001b[1mwandb\u001b[0m: \n",
      "\u001b[34m\u001b[1mwandb\u001b[0m: Plotting DecisionTreeClassifier.\n"
     ]
    },
    {
     "name": "stdout",
     "output_type": "stream",
     "text": [
      "Accuracy of Decision Tree: 0.9454545454545454\n"
     ]
    },
    {
     "name": "stderr",
     "output_type": "stream",
     "text": [
      "\u001b[34m\u001b[1mwandb\u001b[0m: Logged feature importances.\n",
      "\u001b[34m\u001b[1mwandb\u001b[0m: Logged confusion matrix.\n",
      "\u001b[34m\u001b[1mwandb\u001b[0m: Logged summary metrics.\n",
      "\u001b[34m\u001b[1mwandb\u001b[0m: Logged class proportions.\n",
      "\u001b[34m\u001b[1mwandb\u001b[0m: \u001b[33mWARNING\u001b[0m This function only supports binary classification at the moment and therefore expects labels to be binary. Skipping calibration curve.\n",
      "\u001b[34m\u001b[1mwandb\u001b[0m: Logged calibration curve.\n",
      "\u001b[34m\u001b[1mwandb\u001b[0m: Logged roc curve.\n",
      "\u001b[34m\u001b[1mwandb\u001b[0m: Logged precision-recall curve.\n"
     ]
    },
    {
     "data": {
      "text/html": [
       "Waiting for W&B process to finish... <strong style=\"color:green\">(success).</strong>"
      ],
      "text/plain": [
       "<IPython.core.display.HTML object>"
      ]
     },
     "metadata": {},
     "output_type": "display_data"
    },
    {
     "data": {
      "text/html": [
       "<style>\n",
       "    table.wandb td:nth-child(1) { padding: 0 10px; text-align: left ; width: auto;} td:nth-child(2) {text-align: left ; width: 100%}\n",
       "    .wandb-row { display: flex; flex-direction: row; flex-wrap: wrap; justify-content: flex-start; width: 100% }\n",
       "    .wandb-col { display: flex; flex-direction: column; flex-basis: 100%; flex: 1; padding: 10px; }\n",
       "    </style>\n",
       "<div class=\"wandb-row\"><div class=\"wandb-col\"><h3>Run history:</h3><br/><table class=\"wandb\"><tr><td>test_accuracy</td><td>▁</td></tr><tr><td>train_accuracy</td><td>▁</td></tr></table><br/></div><div class=\"wandb-col\"><h3>Run summary:</h3><br/><table class=\"wandb\"><tr><td>test_accuracy</td><td>0.94545</td></tr><tr><td>train_accuracy</td><td>1.0</td></tr></table><br/></div></div>"
      ],
      "text/plain": [
       "<IPython.core.display.HTML object>"
      ]
     },
     "metadata": {},
     "output_type": "display_data"
    },
    {
     "data": {
      "text/html": [
       " View run <strong style=\"color:#cdcd00\">decision_tree_model</strong> at: <a href='https://wandb.ai/tri-nit/tri-nit-hackathon/runs/yy5rwc7n' target=\"_blank\">https://wandb.ai/tri-nit/tri-nit-hackathon/runs/yy5rwc7n</a><br/>Synced 5 W&B file(s), 6 media file(s), 6 artifact file(s) and 0 other file(s)"
      ],
      "text/plain": [
       "<IPython.core.display.HTML object>"
      ]
     },
     "metadata": {},
     "output_type": "display_data"
    },
    {
     "data": {
      "text/html": [
       "Find logs at: <code>.\\wandb\\run-20230211_151818-yy5rwc7n\\logs</code>"
      ],
      "text/plain": [
       "<IPython.core.display.HTML object>"
      ]
     },
     "metadata": {},
     "output_type": "display_data"
    }
   ],
   "source": [
    "from sklearn.tree import DecisionTreeClassifier\n",
    "\n",
    "wandb.init(project=params.PROJECT, entity=params.ENTITY, job_type=\"train_model\", name=\"decision_tree_model\")\n",
    "\n",
    "decision_tree = DecisionTreeClassifier()\n",
    "decision_tree.fit(x_train_scaled, y_train)\n",
    "\n",
    "y_pred = decision_tree.predict(x_test_scaled)\n",
    "y_probas = decision_tree.predict_proba(x_test_scaled)\n",
    "\n",
    "y_pred_train = decision_tree.predict(x_train_scaled)\n",
    "\n",
    "train_accuracy = accuracy_score(y_train, y_pred_train)\n",
    "test_accuracy = accuracy_score(y_test, y_pred)\n",
    "\n",
    "print(f\"Accuracy of Decision Tree: {test_accuracy}\")\n",
    "\n",
    "wandb.log({\n",
    "    \"test_accuracy\": test_accuracy,\n",
    "    \"train_accuracy\": train_accuracy\n",
    "})\n",
    "\n",
    "wandb.sklearn.plot_classifier(decision_tree,\n",
    "                              x_train_scaled, \n",
    "                              x_test_scaled,\n",
    "                              y_train,\n",
    "                              y_test,\n",
    "                              y_pred,\n",
    "                              y_probas,\n",
    "                              labels,\n",
    "                              is_binary=False,\n",
    "                              model_name=\"DecisionTreeClassifier\"\n",
    ")\n",
    "\n",
    "wandb.finish()"
   ]
  },
  {
   "attachments": {},
   "cell_type": "markdown",
   "metadata": {},
   "source": [
    "# Random Forest"
   ]
  },
  {
   "cell_type": "code",
   "execution_count": 13,
   "metadata": {},
   "outputs": [
    {
     "data": {
      "text/html": [
       "Tracking run with wandb version 0.13.10"
      ],
      "text/plain": [
       "<IPython.core.display.HTML object>"
      ]
     },
     "metadata": {},
     "output_type": "display_data"
    },
    {
     "data": {
      "text/html": [
       "Run data is saved locally in <code>c:\\Users\\ariha\\Desktop\\TRI-NIT\\TRINIT_EnemiesOfSyntax_ML\\wandb\\wandb\\run-20230211_152133-1ot47koz</code>"
      ],
      "text/plain": [
       "<IPython.core.display.HTML object>"
      ]
     },
     "metadata": {},
     "output_type": "display_data"
    },
    {
     "data": {
      "text/html": [
       "Syncing run <strong><a href='https://wandb.ai/tri-nit/tri-nit-hackathon/runs/1ot47koz' target=\"_blank\">random_forest_model</a></strong> to <a href='https://wandb.ai/tri-nit/tri-nit-hackathon' target=\"_blank\">Weights & Biases</a> (<a href='https://wandb.me/run' target=\"_blank\">docs</a>)<br/>"
      ],
      "text/plain": [
       "<IPython.core.display.HTML object>"
      ]
     },
     "metadata": {},
     "output_type": "display_data"
    },
    {
     "data": {
      "text/html": [
       " View project at <a href='https://wandb.ai/tri-nit/tri-nit-hackathon' target=\"_blank\">https://wandb.ai/tri-nit/tri-nit-hackathon</a>"
      ],
      "text/plain": [
       "<IPython.core.display.HTML object>"
      ]
     },
     "metadata": {},
     "output_type": "display_data"
    },
    {
     "data": {
      "text/html": [
       " View run at <a href='https://wandb.ai/tri-nit/tri-nit-hackathon/runs/1ot47koz' target=\"_blank\">https://wandb.ai/tri-nit/tri-nit-hackathon/runs/1ot47koz</a>"
      ],
      "text/plain": [
       "<IPython.core.display.HTML object>"
      ]
     },
     "metadata": {},
     "output_type": "display_data"
    },
    {
     "name": "stderr",
     "output_type": "stream",
     "text": [
      "\u001b[34m\u001b[1mwandb\u001b[0m: \n",
      "\u001b[34m\u001b[1mwandb\u001b[0m: Plotting RandomForestClassifier.\n"
     ]
    },
    {
     "name": "stdout",
     "output_type": "stream",
     "text": [
      "Accuracy of Random Forest: 0.9795454545454545\n"
     ]
    },
    {
     "name": "stderr",
     "output_type": "stream",
     "text": [
      "\u001b[34m\u001b[1mwandb\u001b[0m: Logged feature importances.\n",
      "\u001b[34m\u001b[1mwandb\u001b[0m: Logged confusion matrix.\n",
      "\u001b[34m\u001b[1mwandb\u001b[0m: Logged summary metrics.\n",
      "\u001b[34m\u001b[1mwandb\u001b[0m: Logged class proportions.\n",
      "\u001b[34m\u001b[1mwandb\u001b[0m: \u001b[33mWARNING\u001b[0m This function only supports binary classification at the moment and therefore expects labels to be binary. Skipping calibration curve.\n",
      "\u001b[34m\u001b[1mwandb\u001b[0m: Logged calibration curve.\n",
      "\u001b[34m\u001b[1mwandb\u001b[0m: Logged roc curve.\n",
      "\u001b[34m\u001b[1mwandb\u001b[0m: Logged precision-recall curve.\n"
     ]
    },
    {
     "data": {
      "text/html": [
       "Waiting for W&B process to finish... <strong style=\"color:green\">(success).</strong>"
      ],
      "text/plain": [
       "<IPython.core.display.HTML object>"
      ]
     },
     "metadata": {},
     "output_type": "display_data"
    },
    {
     "data": {
      "text/html": [
       "<style>\n",
       "    table.wandb td:nth-child(1) { padding: 0 10px; text-align: left ; width: auto;} td:nth-child(2) {text-align: left ; width: 100%}\n",
       "    .wandb-row { display: flex; flex-direction: row; flex-wrap: wrap; justify-content: flex-start; width: 100% }\n",
       "    .wandb-col { display: flex; flex-direction: column; flex-basis: 100%; flex: 1; padding: 10px; }\n",
       "    </style>\n",
       "<div class=\"wandb-row\"><div class=\"wandb-col\"><h3>Run history:</h3><br/><table class=\"wandb\"><tr><td>test_accuracy</td><td>▁</td></tr><tr><td>train_accuracy</td><td>▁</td></tr></table><br/></div><div class=\"wandb-col\"><h3>Run summary:</h3><br/><table class=\"wandb\"><tr><td>test_accuracy</td><td>0.97955</td></tr><tr><td>train_accuracy</td><td>1.0</td></tr></table><br/></div></div>"
      ],
      "text/plain": [
       "<IPython.core.display.HTML object>"
      ]
     },
     "metadata": {},
     "output_type": "display_data"
    },
    {
     "data": {
      "text/html": [
       " View run <strong style=\"color:#cdcd00\">random_forest_model</strong> at: <a href='https://wandb.ai/tri-nit/tri-nit-hackathon/runs/1ot47koz' target=\"_blank\">https://wandb.ai/tri-nit/tri-nit-hackathon/runs/1ot47koz</a><br/>Synced 5 W&B file(s), 6 media file(s), 6 artifact file(s) and 0 other file(s)"
      ],
      "text/plain": [
       "<IPython.core.display.HTML object>"
      ]
     },
     "metadata": {},
     "output_type": "display_data"
    },
    {
     "data": {
      "text/html": [
       "Find logs at: <code>.\\wandb\\run-20230211_152133-1ot47koz\\logs</code>"
      ],
      "text/plain": [
       "<IPython.core.display.HTML object>"
      ]
     },
     "metadata": {},
     "output_type": "display_data"
    }
   ],
   "source": [
    "from sklearn.ensemble import RandomForestClassifier\n",
    "\n",
    "wandb.init(project=params.PROJECT, entity=params.ENTITY, job_type=\"train_model\", name=\"random_forest_model\")\n",
    "\n",
    "random_forest = RandomForestClassifier()\n",
    "random_forest.fit(x_train_scaled, y_train)\n",
    "\n",
    "y_pred = random_forest.predict(x_test_scaled)\n",
    "y_probas = random_forest.predict_proba(x_test_scaled)\n",
    "\n",
    "y_pred_train = random_forest.predict(x_train_scaled)\n",
    "\n",
    "train_accuracy = accuracy_score(y_train, y_pred_train)\n",
    "test_accuracy = accuracy_score(y_test, y_pred)\n",
    "\n",
    "print(f\"Accuracy of Random Forest: {test_accuracy}\")\n",
    "\n",
    "wandb.log({\n",
    "    \"test_accuracy\": test_accuracy,\n",
    "    \"train_accuracy\": train_accuracy\n",
    "})\n",
    "\n",
    "wandb.sklearn.plot_classifier(random_forest,\n",
    "                              x_train_scaled, \n",
    "                              x_test_scaled,\n",
    "                              y_train,\n",
    "                              y_test,\n",
    "                              y_pred,\n",
    "                              y_probas,\n",
    "                              labels,\n",
    "                              is_binary=False,\n",
    "                              model_name=\"RandomForestClassifier\"\n",
    ")\n",
    "\n",
    "wandb.finish()"
   ]
  },
  {
   "cell_type": "code",
   "execution_count": null,
   "metadata": {},
   "outputs": [],
   "source": [
    "# Saving model as a pickle file\n",
    "import pickle\n",
    "\n",
    "with open(\"../models/random_forest_model.pkl\", \"wb\") as f:\n",
    "    pickle.dump(random_forest, f)"
   ]
  }
 ],
 "metadata": {
  "kernelspec": {
   "display_name": "tri_nit_env",
   "language": "python",
   "name": "python3"
  },
  "language_info": {
   "codemirror_mode": {
    "name": "ipython",
    "version": 3
   },
   "file_extension": ".py",
   "mimetype": "text/x-python",
   "name": "python",
   "nbconvert_exporter": "python",
   "pygments_lexer": "ipython3",
   "version": "3.10.5"
  },
  "orig_nbformat": 4,
  "vscode": {
   "interpreter": {
    "hash": "ce494a291cea0fbba7942a89b223b36d07629b32924d5ffce7e991f8d29c502c"
   }
  }
 },
 "nbformat": 4,
 "nbformat_minor": 2
}
